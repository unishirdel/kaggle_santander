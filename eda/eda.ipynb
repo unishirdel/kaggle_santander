{
 "cells": [
  {
   "cell_type": "code",
   "execution_count": 1,
   "id": "58871850-fe4b-4a43-ade4-530c5c3baa5c",
   "metadata": {},
   "outputs": [],
   "source": [
    "import pandas as pd\n",
    "import numpy as np"
   ]
  },
  {
   "cell_type": "code",
   "execution_count": 2,
   "id": "d4f3a6ad-6332-4bf8-890e-7dd0b685f2d7",
   "metadata": {},
   "outputs": [],
   "source": [
    "data = pd.read_csv(\"../data/train.csv\")"
   ]
  },
  {
   "cell_type": "code",
   "execution_count": 3,
   "id": "a1c18395-c61b-4223-88ea-200e45a0e13d",
   "metadata": {},
   "outputs": [
    {
     "data": {
      "text/html": [
       "<div>\n",
       "<style scoped>\n",
       "    .dataframe tbody tr th:only-of-type {\n",
       "        vertical-align: middle;\n",
       "    }\n",
       "\n",
       "    .dataframe tbody tr th {\n",
       "        vertical-align: top;\n",
       "    }\n",
       "\n",
       "    .dataframe thead th {\n",
       "        text-align: right;\n",
       "    }\n",
       "</style>\n",
       "<table border=\"1\" class=\"dataframe\">\n",
       "  <thead>\n",
       "    <tr style=\"text-align: right;\">\n",
       "      <th></th>\n",
       "      <th>ID</th>\n",
       "      <th>var3</th>\n",
       "      <th>var15</th>\n",
       "      <th>imp_ent_var16_ult1</th>\n",
       "      <th>imp_op_var39_comer_ult1</th>\n",
       "      <th>imp_op_var39_comer_ult3</th>\n",
       "      <th>imp_op_var40_comer_ult1</th>\n",
       "      <th>imp_op_var40_comer_ult3</th>\n",
       "      <th>imp_op_var40_efect_ult1</th>\n",
       "      <th>imp_op_var40_efect_ult3</th>\n",
       "      <th>...</th>\n",
       "      <th>saldo_medio_var33_hace2</th>\n",
       "      <th>saldo_medio_var33_hace3</th>\n",
       "      <th>saldo_medio_var33_ult1</th>\n",
       "      <th>saldo_medio_var33_ult3</th>\n",
       "      <th>saldo_medio_var44_hace2</th>\n",
       "      <th>saldo_medio_var44_hace3</th>\n",
       "      <th>saldo_medio_var44_ult1</th>\n",
       "      <th>saldo_medio_var44_ult3</th>\n",
       "      <th>var38</th>\n",
       "      <th>TARGET</th>\n",
       "    </tr>\n",
       "  </thead>\n",
       "  <tbody>\n",
       "    <tr>\n",
       "      <th>0</th>\n",
       "      <td>1</td>\n",
       "      <td>2</td>\n",
       "      <td>23</td>\n",
       "      <td>0.0</td>\n",
       "      <td>0.0</td>\n",
       "      <td>0.0</td>\n",
       "      <td>0.0</td>\n",
       "      <td>0.0</td>\n",
       "      <td>0.0</td>\n",
       "      <td>0.0</td>\n",
       "      <td>...</td>\n",
       "      <td>0.0</td>\n",
       "      <td>0.0</td>\n",
       "      <td>0.0</td>\n",
       "      <td>0.0</td>\n",
       "      <td>0.0</td>\n",
       "      <td>0.0</td>\n",
       "      <td>0.0</td>\n",
       "      <td>0.0</td>\n",
       "      <td>39205.170000</td>\n",
       "      <td>0</td>\n",
       "    </tr>\n",
       "    <tr>\n",
       "      <th>1</th>\n",
       "      <td>3</td>\n",
       "      <td>2</td>\n",
       "      <td>34</td>\n",
       "      <td>0.0</td>\n",
       "      <td>0.0</td>\n",
       "      <td>0.0</td>\n",
       "      <td>0.0</td>\n",
       "      <td>0.0</td>\n",
       "      <td>0.0</td>\n",
       "      <td>0.0</td>\n",
       "      <td>...</td>\n",
       "      <td>0.0</td>\n",
       "      <td>0.0</td>\n",
       "      <td>0.0</td>\n",
       "      <td>0.0</td>\n",
       "      <td>0.0</td>\n",
       "      <td>0.0</td>\n",
       "      <td>0.0</td>\n",
       "      <td>0.0</td>\n",
       "      <td>49278.030000</td>\n",
       "      <td>0</td>\n",
       "    </tr>\n",
       "    <tr>\n",
       "      <th>2</th>\n",
       "      <td>4</td>\n",
       "      <td>2</td>\n",
       "      <td>23</td>\n",
       "      <td>0.0</td>\n",
       "      <td>0.0</td>\n",
       "      <td>0.0</td>\n",
       "      <td>0.0</td>\n",
       "      <td>0.0</td>\n",
       "      <td>0.0</td>\n",
       "      <td>0.0</td>\n",
       "      <td>...</td>\n",
       "      <td>0.0</td>\n",
       "      <td>0.0</td>\n",
       "      <td>0.0</td>\n",
       "      <td>0.0</td>\n",
       "      <td>0.0</td>\n",
       "      <td>0.0</td>\n",
       "      <td>0.0</td>\n",
       "      <td>0.0</td>\n",
       "      <td>67333.770000</td>\n",
       "      <td>0</td>\n",
       "    </tr>\n",
       "    <tr>\n",
       "      <th>3</th>\n",
       "      <td>8</td>\n",
       "      <td>2</td>\n",
       "      <td>37</td>\n",
       "      <td>0.0</td>\n",
       "      <td>195.0</td>\n",
       "      <td>195.0</td>\n",
       "      <td>0.0</td>\n",
       "      <td>0.0</td>\n",
       "      <td>0.0</td>\n",
       "      <td>0.0</td>\n",
       "      <td>...</td>\n",
       "      <td>0.0</td>\n",
       "      <td>0.0</td>\n",
       "      <td>0.0</td>\n",
       "      <td>0.0</td>\n",
       "      <td>0.0</td>\n",
       "      <td>0.0</td>\n",
       "      <td>0.0</td>\n",
       "      <td>0.0</td>\n",
       "      <td>64007.970000</td>\n",
       "      <td>0</td>\n",
       "    </tr>\n",
       "    <tr>\n",
       "      <th>4</th>\n",
       "      <td>10</td>\n",
       "      <td>2</td>\n",
       "      <td>39</td>\n",
       "      <td>0.0</td>\n",
       "      <td>0.0</td>\n",
       "      <td>0.0</td>\n",
       "      <td>0.0</td>\n",
       "      <td>0.0</td>\n",
       "      <td>0.0</td>\n",
       "      <td>0.0</td>\n",
       "      <td>...</td>\n",
       "      <td>0.0</td>\n",
       "      <td>0.0</td>\n",
       "      <td>0.0</td>\n",
       "      <td>0.0</td>\n",
       "      <td>0.0</td>\n",
       "      <td>0.0</td>\n",
       "      <td>0.0</td>\n",
       "      <td>0.0</td>\n",
       "      <td>117310.979016</td>\n",
       "      <td>0</td>\n",
       "    </tr>\n",
       "  </tbody>\n",
       "</table>\n",
       "<p>5 rows × 371 columns</p>\n",
       "</div>"
      ],
      "text/plain": [
       "   ID  var3  var15  imp_ent_var16_ult1  imp_op_var39_comer_ult1  \\\n",
       "0   1     2     23                 0.0                      0.0   \n",
       "1   3     2     34                 0.0                      0.0   \n",
       "2   4     2     23                 0.0                      0.0   \n",
       "3   8     2     37                 0.0                    195.0   \n",
       "4  10     2     39                 0.0                      0.0   \n",
       "\n",
       "   imp_op_var39_comer_ult3  imp_op_var40_comer_ult1  imp_op_var40_comer_ult3  \\\n",
       "0                      0.0                      0.0                      0.0   \n",
       "1                      0.0                      0.0                      0.0   \n",
       "2                      0.0                      0.0                      0.0   \n",
       "3                    195.0                      0.0                      0.0   \n",
       "4                      0.0                      0.0                      0.0   \n",
       "\n",
       "   imp_op_var40_efect_ult1  imp_op_var40_efect_ult3  ...  \\\n",
       "0                      0.0                      0.0  ...   \n",
       "1                      0.0                      0.0  ...   \n",
       "2                      0.0                      0.0  ...   \n",
       "3                      0.0                      0.0  ...   \n",
       "4                      0.0                      0.0  ...   \n",
       "\n",
       "   saldo_medio_var33_hace2  saldo_medio_var33_hace3  saldo_medio_var33_ult1  \\\n",
       "0                      0.0                      0.0                     0.0   \n",
       "1                      0.0                      0.0                     0.0   \n",
       "2                      0.0                      0.0                     0.0   \n",
       "3                      0.0                      0.0                     0.0   \n",
       "4                      0.0                      0.0                     0.0   \n",
       "\n",
       "   saldo_medio_var33_ult3  saldo_medio_var44_hace2  saldo_medio_var44_hace3  \\\n",
       "0                     0.0                      0.0                      0.0   \n",
       "1                     0.0                      0.0                      0.0   \n",
       "2                     0.0                      0.0                      0.0   \n",
       "3                     0.0                      0.0                      0.0   \n",
       "4                     0.0                      0.0                      0.0   \n",
       "\n",
       "   saldo_medio_var44_ult1  saldo_medio_var44_ult3          var38  TARGET  \n",
       "0                     0.0                     0.0   39205.170000       0  \n",
       "1                     0.0                     0.0   49278.030000       0  \n",
       "2                     0.0                     0.0   67333.770000       0  \n",
       "3                     0.0                     0.0   64007.970000       0  \n",
       "4                     0.0                     0.0  117310.979016       0  \n",
       "\n",
       "[5 rows x 371 columns]"
      ]
     },
     "execution_count": 3,
     "metadata": {},
     "output_type": "execute_result"
    }
   ],
   "source": [
    "data.head()"
   ]
  },
  {
   "cell_type": "code",
   "execution_count": 4,
   "id": "2317538a-ecc4-4d4a-8309-80982a99b0d0",
   "metadata": {},
   "outputs": [
    {
     "data": {
      "text/plain": [
       "76020"
      ]
     },
     "execution_count": 4,
     "metadata": {},
     "output_type": "execute_result"
    }
   ],
   "source": [
    "len(data)"
   ]
  },
  {
   "cell_type": "code",
   "execution_count": 5,
   "id": "10a6e511-0fa9-41d2-8d5b-29e909d88e33",
   "metadata": {},
   "outputs": [
    {
     "data": {
      "text/plain": [
       "3008"
      ]
     },
     "execution_count": 5,
     "metadata": {},
     "output_type": "execute_result"
    }
   ],
   "source": [
    "sum(data[\"TARGET\"])"
   ]
  },
  {
   "cell_type": "code",
   "execution_count": 6,
   "id": "d7868b65-a845-4bf7-8599-d61f81290595",
   "metadata": {},
   "outputs": [
    {
     "data": {
      "text/plain": [
       "False"
      ]
     },
     "execution_count": 6,
     "metadata": {},
     "output_type": "execute_result"
    }
   ],
   "source": [
    "data.isnull().any().any()"
   ]
  },
  {
   "cell_type": "code",
   "execution_count": 7,
   "id": "5e996ad4-2988-4552-ab23-889a3cbf5c3c",
   "metadata": {},
   "outputs": [
    {
     "name": "stdout",
     "output_type": "stream",
     "text": [
      "337\n"
     ]
    }
   ],
   "source": [
    "selected_col = []\n",
    "for col in data.columns:\n",
    "    if len(data[col].unique()) != 1:\n",
    "        selected_col.append(col)\n",
    "print(len(selected_col))"
   ]
  },
  {
   "cell_type": "code",
   "execution_count": 8,
   "id": "34f52287-79a0-4a50-b347-97ba36d556a5",
   "metadata": {},
   "outputs": [],
   "source": [
    "data = data[selected_col]"
   ]
  },
  {
   "cell_type": "code",
   "execution_count": 9,
   "id": "bc2d96d3-d5f0-4941-8dac-be02b28f34c9",
   "metadata": {},
   "outputs": [],
   "source": [
    "target = data['TARGET']"
   ]
  },
  {
   "cell_type": "code",
   "execution_count": 10,
   "id": "ccdfd657-a295-4498-b8a4-d0830ba5a3d3",
   "metadata": {},
   "outputs": [],
   "source": [
    "df_pos = data[data['TARGET']==1]\n",
    "df_neg = data[data['TARGET']==0]"
   ]
  },
  {
   "cell_type": "code",
   "execution_count": 11,
   "id": "1a6d62d7-31b8-4cc7-9e47-7afa768eed2e",
   "metadata": {},
   "outputs": [],
   "source": [
    "data = data.drop('TARGET', axis=1)\n",
    "df_pos = df_pos.drop('TARGET', axis=1)\n",
    "df_neg = df_neg.drop('TARGET', axis=1)"
   ]
  },
  {
   "cell_type": "code",
   "execution_count": 12,
   "id": "cc6ddf3c-b49e-453c-8183-1c5950e26efe",
   "metadata": {},
   "outputs": [
    {
     "name": "stdout",
     "output_type": "stream",
     "text": [
      "228\n"
     ]
    }
   ],
   "source": [
    "selected_pos_col = []\n",
    "non_selected_pos_col = []\n",
    "for col in df_pos.columns:\n",
    "    if len(df_pos[col].unique()) != 1:\n",
    "        selected_pos_col.append(col)\n",
    "    else:\n",
    "        non_selected_pos_col.append(col)\n",
    "print(len(selected_pos_col))"
   ]
  },
  {
   "cell_type": "code",
   "execution_count": 13,
   "id": "5208e39b-f066-4720-b174-4a45c90af60f",
   "metadata": {},
   "outputs": [
    {
     "name": "stdout",
     "output_type": "stream",
     "text": [
      "336\n"
     ]
    }
   ],
   "source": [
    "selected_neg_col = []\n",
    "non_selected_neg_col = []\n",
    "for col in df_neg.columns:\n",
    "    if len(df_neg[col].unique()) != 1:\n",
    "        selected_neg_col.append(col)\n",
    "    else:\n",
    "        non_selected_neg_col.append(col)\n",
    "print(len(selected_neg_col))"
   ]
  },
  {
   "cell_type": "code",
   "execution_count": 14,
   "id": "d9fd72bc-1cfd-4930-adf8-4b93f582bbf1",
   "metadata": {},
   "outputs": [],
   "source": [
    "intersection_cols = list(set(selected_pos_col) & set(selected_neg_col))"
   ]
  },
  {
   "cell_type": "code",
   "execution_count": 15,
   "id": "8b785fcb-a0e1-4644-b864-73085e32612a",
   "metadata": {},
   "outputs": [
    {
     "data": {
      "text/plain": [
       "228"
      ]
     },
     "execution_count": 15,
     "metadata": {},
     "output_type": "execute_result"
    }
   ],
   "source": [
    "len(intersection_cols)"
   ]
  },
  {
   "cell_type": "code",
   "execution_count": 16,
   "id": "79b10924-6dd5-44d6-b647-1cd5b7c41987",
   "metadata": {},
   "outputs": [],
   "source": [
    "pos_samples_uniq = {}\n",
    "for col in non_selected_pos_col:\n",
    "    uniq1 = df_pos[col].unique()\n",
    "    uniq0 = df_neg[col].unique()\n",
    "    if uniq1[0] not in uniq0:\n",
    "        print(col)\n",
    "    else:\n",
    "        target = target[data[col]==uniq1[0]]\n",
    "        data = data[data[col]==uniq1[0]]\n",
    "        data = data.drop(col, axis=1)\n",
    "        pos_samples_uniq[col] = uniq1[0]"
   ]
  },
  {
   "cell_type": "code",
   "execution_count": 17,
   "id": "cbdc19e6-69a4-40d7-9abb-0f2b049bce87",
   "metadata": {},
   "outputs": [
    {
     "data": {
      "text/plain": [
       "{'ind_var6_0': 0,\n",
       " 'ind_var6': 0,\n",
       " 'ind_var13_medio_0': 0,\n",
       " 'ind_var13_medio': 0,\n",
       " 'ind_var18_0': 0,\n",
       " 'ind_var18': 0,\n",
       " 'ind_var20_0': 0,\n",
       " 'ind_var20': 0,\n",
       " 'ind_var29_0': 0,\n",
       " 'ind_var29': 0,\n",
       " 'ind_var33_0': 0,\n",
       " 'ind_var33': 0,\n",
       " 'ind_var34_0': 0,\n",
       " 'ind_var34': 0,\n",
       " 'num_var6_0': 0,\n",
       " 'num_var6': 0,\n",
       " 'num_var13_medio_0': 0,\n",
       " 'num_var13_medio': 0,\n",
       " 'num_var18_0': 0,\n",
       " 'num_var18': 0,\n",
       " 'num_var20_0': 0,\n",
       " 'num_var20': 0,\n",
       " 'num_op_var40_hace3': 0,\n",
       " 'num_var29_0': 0,\n",
       " 'num_var29': 0,\n",
       " 'num_var33_0': 0,\n",
       " 'num_var33': 0,\n",
       " 'num_var34_0': 0,\n",
       " 'num_var34': 0,\n",
       " 'saldo_var6': 0.0,\n",
       " 'saldo_var13_medio': 0,\n",
       " 'saldo_var18': 0,\n",
       " 'saldo_var20': 0.0,\n",
       " 'saldo_var29': 0.0,\n",
       " 'saldo_var33': 0.0,\n",
       " 'saldo_var34': 0,\n",
       " 'delta_imp_amort_var18_1y3': 0,\n",
       " 'delta_imp_amort_var34_1y3': 0,\n",
       " 'delta_imp_aport_var33_1y3': 0.0,\n",
       " 'delta_imp_reemb_var33_1y3': 0,\n",
       " 'delta_imp_trasp_var17_in_1y3': 0,\n",
       " 'delta_imp_trasp_var17_out_1y3': 0,\n",
       " 'delta_imp_trasp_var33_in_1y3': 0,\n",
       " 'delta_imp_trasp_var33_out_1y3': 0,\n",
       " 'delta_imp_venta_var44_1y3': 0.0,\n",
       " 'delta_num_aport_var33_1y3': 0.0,\n",
       " 'delta_num_reemb_var33_1y3': 0,\n",
       " 'delta_num_trasp_var17_in_1y3': 0,\n",
       " 'delta_num_trasp_var17_out_1y3': 0,\n",
       " 'delta_num_trasp_var33_in_1y3': 0,\n",
       " 'delta_num_trasp_var33_out_1y3': 0,\n",
       " 'delta_num_venta_var44_1y3': 0.0,\n",
       " 'imp_amort_var18_ult1': 0.0,\n",
       " 'imp_amort_var34_ult1': 0.0,\n",
       " 'imp_aport_var17_hace3': 0.0,\n",
       " 'imp_aport_var33_hace3': 0,\n",
       " 'imp_aport_var33_ult1': 0,\n",
       " 'imp_var7_emit_ult1': 0.0,\n",
       " 'imp_compra_var44_hace3': 0.0,\n",
       " 'imp_reemb_var17_hace3': 0.0,\n",
       " 'imp_reemb_var33_ult1': 0,\n",
       " 'imp_trasp_var17_in_hace3': 0.0,\n",
       " 'imp_trasp_var17_in_ult1': 0.0,\n",
       " 'imp_trasp_var17_out_ult1': 0.0,\n",
       " 'imp_trasp_var33_in_hace3': 0.0,\n",
       " 'imp_trasp_var33_in_ult1': 0.0,\n",
       " 'imp_trasp_var33_out_ult1': 0,\n",
       " 'imp_venta_var44_hace3': 0.0,\n",
       " 'imp_venta_var44_ult1': 0.0,\n",
       " 'ind_var7_emit_ult1': 0,\n",
       " 'num_aport_var17_hace3': 0,\n",
       " 'num_aport_var33_hace3': 0,\n",
       " 'num_aport_var33_ult1': 0,\n",
       " 'num_var7_emit_ult1': 0,\n",
       " 'num_compra_var44_hace3': 0,\n",
       " 'num_meses_var13_largo_ult3': 0,\n",
       " 'num_meses_var13_medio_ult3': 0,\n",
       " 'num_meses_var29_ult3': 0,\n",
       " 'num_meses_var33_ult3': 0,\n",
       " 'num_reemb_var17_hace3': 0,\n",
       " 'num_reemb_var33_ult1': 0,\n",
       " 'num_trasp_var17_in_hace3': 0,\n",
       " 'num_trasp_var17_in_ult1': 0,\n",
       " 'num_trasp_var17_out_ult1': 0,\n",
       " 'num_trasp_var33_in_hace3': 0,\n",
       " 'num_trasp_var33_in_ult1': 0,\n",
       " 'num_trasp_var33_out_ult1': 0,\n",
       " 'num_venta_var44_hace3': 0,\n",
       " 'num_venta_var44_ult1': 0,\n",
       " 'saldo_medio_var13_largo_hace2': 0.0,\n",
       " 'saldo_medio_var13_largo_hace3': 0.0,\n",
       " 'saldo_medio_var13_largo_ult1': 0.0,\n",
       " 'saldo_medio_var13_largo_ult3': 0.0,\n",
       " 'saldo_medio_var13_medio_hace2': 0.0,\n",
       " 'saldo_medio_var13_medio_ult1': 0,\n",
       " 'saldo_medio_var13_medio_ult3': 0.0,\n",
       " 'saldo_medio_var17_hace2': 0.0,\n",
       " 'saldo_medio_var17_hace3': 0.0,\n",
       " 'saldo_medio_var29_hace2': 0.0,\n",
       " 'saldo_medio_var29_hace3': 0.0,\n",
       " 'saldo_medio_var29_ult1': 0.0,\n",
       " 'saldo_medio_var29_ult3': 0.0,\n",
       " 'saldo_medio_var33_hace2': 0.0,\n",
       " 'saldo_medio_var33_hace3': 0.0,\n",
       " 'saldo_medio_var33_ult1': 0.0,\n",
       " 'saldo_medio_var33_ult3': 0.0,\n",
       " 'saldo_medio_var44_hace2': 0.0,\n",
       " 'saldo_medio_var44_hace3': 0.0}"
      ]
     },
     "execution_count": 17,
     "metadata": {},
     "output_type": "execute_result"
    }
   ],
   "source": [
    "pos_samples_uniq"
   ]
  },
  {
   "cell_type": "code",
   "execution_count": 18,
   "id": "6bd71d48-d0db-4e32-bdc0-e85dd19af5ef",
   "metadata": {},
   "outputs": [
    {
     "name": "stdout",
     "output_type": "stream",
     "text": [
      "74930\n",
      "74930\n"
     ]
    }
   ],
   "source": [
    "print(len(data))\n",
    "print(len(target))"
   ]
  },
  {
   "cell_type": "code",
   "execution_count": 19,
   "id": "fd2aedd3-bb1f-4b12-ad14-5eb9bccbf35a",
   "metadata": {},
   "outputs": [
    {
     "data": {
      "text/plain": [
       "228"
      ]
     },
     "execution_count": 19,
     "metadata": {},
     "output_type": "execute_result"
    }
   ],
   "source": [
    "len(data.columns)"
   ]
  },
  {
   "cell_type": "code",
   "execution_count": 20,
   "id": "9622810a-87e6-497c-b5f4-88e3782c3d14",
   "metadata": {},
   "outputs": [],
   "source": [
    "numeric_columns = data.select_dtypes(include=['number']).columns.tolist()\n",
    "boolean_columns = data.select_dtypes(include=['bool']).columns.tolist()\n",
    "categorical_columns = data.select_dtypes(include=['object']).columns.tolist()"
   ]
  },
  {
   "cell_type": "code",
   "execution_count": 21,
   "id": "cbd68bb2-a3b1-4c63-94f0-35a4c0414efb",
   "metadata": {},
   "outputs": [],
   "source": [
    "temp = numeric_columns.copy()\n",
    "for col in temp:\n",
    "    if len(data[col].unique()) == 2:\n",
    "        data[col] = data[col] == max(data[col])\n",
    "        numeric_columns.remove(col)\n",
    "        boolean_columns.append(col)"
   ]
  },
  {
   "cell_type": "code",
   "execution_count": 22,
   "id": "0b5d3485-5cb2-43b8-bbef-624ee5b099e9",
   "metadata": {},
   "outputs": [
    {
     "name": "stdout",
     "output_type": "stream",
     "text": [
      "160\n",
      "68\n",
      "0\n"
     ]
    }
   ],
   "source": [
    "print(len(numeric_columns))\n",
    "print(len(boolean_columns))\n",
    "print(len(categorical_columns))"
   ]
  },
  {
   "cell_type": "code",
   "execution_count": 86,
   "id": "daf9e90f-83e5-4862-8345-53a1f4e75fe7",
   "metadata": {},
   "outputs": [],
   "source": [
    "from scipy.stats import chi2_contingency\n",
    "\n",
    "def chi2_scipy(X, y):\n",
    "    n_features = X.shape[1]\n",
    "    chi2_stats = []\n",
    "    p_values = []\n",
    "    \n",
    "    for i in range(n_features):\n",
    "        contingency_table = pd.crosstab(pd.Series(X[:, i]), pd.Series(y))\n",
    "        chi2, p_value, dof, expected = chi2_contingency(contingency_table)\n",
    "        chi2_stats.append(chi2)\n",
    "        p_values.append(p_value)\n",
    "    \n",
    "    return np.array(chi2_stats), np.array(p_values)"
   ]
  },
  {
   "cell_type": "code",
   "execution_count": 92,
   "id": "70278377-86d1-4ccd-ab1b-fa3be36335bc",
   "metadata": {
    "scrolled": true
   },
   "outputs": [],
   "source": [
    "from sklearn.feature_selection import mutual_info_classif\n",
    "from sklearn.metrics import matthews_corrcoef\n",
    "from sklearn.feature_selection import chi2\n",
    "\n",
    "selected_boolean_feature = []\n",
    "for col in boolean_columns:\n",
    "    col_temp = data[col].to_numpy().reshape(-1, 1)\n",
    "    info_gain = mutual_info_classif(col_temp, target, discrete_features=True)\n",
    "    mcc = matthews_corrcoef(data[col], target)\n",
    "    chi = chi2_scipy(col_temp, target)[1]#chi2(col_temp, target)[1]\n",
    "    if abs(mcc)>0.3 or info_gain>0.05 or chi<0.05:\n",
    "        selected_boolean_feature.append(col)\n",
    "    "
   ]
  },
  {
   "cell_type": "code",
   "execution_count": 93,
   "id": "1c6c709a-0458-4a6b-ba7f-ef71c7ae083e",
   "metadata": {},
   "outputs": [
    {
     "data": {
      "text/plain": [
       "4"
      ]
     },
     "execution_count": 93,
     "metadata": {},
     "output_type": "execute_result"
    }
   ],
   "source": [
    "len(selected_boolean_feature)"
   ]
  },
  {
   "cell_type": "code",
   "execution_count": 152,
   "id": "40091ff7-6226-4660-998b-13bc80f8a601",
   "metadata": {},
   "outputs": [],
   "source": [
    "from scipy.stats import kstest\n",
    "import random\n",
    "\n",
    "def ks_test_normality(X, alpha=0.05, max_sample_size=10000):\n",
    "    \"\"\"\n",
    "    Performs the Kolmogorov-Smirnov test for normality on each feature.\n",
    "    \n",
    "    Parameters:\n",
    "    - X: pandas DataFrame of features.\n",
    "    - alpha: significance level.\n",
    "    - max_sample_size: maximum sample size to use for the test.\n",
    "    \n",
    "    Returns:\n",
    "    - DataFrame with features and test results.\n",
    "    \"\"\"\n",
    "    results = []\n",
    "    for feature in X.columns:\n",
    "        data = X[feature].dropna()\n",
    "        \n",
    "        # Subsample if data is larger than max_sample_size\n",
    "        if len(data) > max_sample_size:\n",
    "            data = data.sample(n=max_sample_size, random_state=42)\n",
    "        \n",
    "        # Normalize the data to have mean=0 and std=1\n",
    "        data_std = (data - data.mean()) / data.std()\n",
    "        \n",
    "        # Perform K-S test against the standard normal distribution\n",
    "        ks_stat, p_value = kstest(data_std, 'norm')\n",
    "        \n",
    "        results.append({\n",
    "            'Feature': feature,\n",
    "            'KS Statistic': ks_stat,\n",
    "            'p-value': p_value,\n",
    "            'Normality': 'Yes' if p_value > alpha else 'No'\n",
    "        })\n",
    "    \n",
    "    results_df = pd.DataFrame(results)\n",
    "    return results_df\n",
    "\n",
    "\n",
    "# normality_results = ks_test_normality(X)\n"
   ]
  },
  {
   "cell_type": "code",
   "execution_count": 154,
   "id": "3ee98fc8-9e48-4112-97f8-a14bf809d412",
   "metadata": {},
   "outputs": [],
   "source": [
    "import numpy as np\n",
    "import pandas as pd\n",
    "from scipy.stats import ttest_ind\n",
    "\n",
    "# Assuming X is your features DataFrame and y is your target Series\n",
    "# For binary classification where y has two classes (e.g., 0 and 1)\n",
    "\n",
    "def t_test_feature_selection(X, y, alpha=0.05):\n",
    "    results = []\n",
    "    classes = y.unique()\n",
    "    if len(classes) != 2:\n",
    "        raise ValueError(\"t-test is applicable for binary classification only.\")\n",
    "    \n",
    "    class1 = classes[0]\n",
    "    class2 = classes[1]\n",
    "    \n",
    "    for feature in X.columns:\n",
    "        group1 = X[y == class1][feature]\n",
    "        group2 = X[y == class2][feature]\n",
    "        \n",
    "        # Perform t-test\n",
    "        t_stat, p_value = ttest_ind(group1, group2, equal_var=False)\n",
    "        \n",
    "        results.append({'Feature': feature, 't-statistic': t_stat, 'p-value': p_value})\n",
    "    \n",
    "    results_df = pd.DataFrame(results)\n",
    "    # Select features where p-value is less than alpha\n",
    "    selected_features = results_df[results_df['p-value'] < alpha]['Feature'].tolist()\n",
    "    \n",
    "    print(\"Selected Features based on t-test:\")\n",
    "    print(selected_features)\n",
    "    return results_df\n",
    "\n",
    "\n",
    "# results_df = t_test_feature_selection(X, y)"
   ]
  },
  {
   "cell_type": "code",
   "execution_count": 156,
   "id": "78f09fd7-eda0-484f-b7bf-76a09d19bd31",
   "metadata": {},
   "outputs": [],
   "source": [
    "from scipy.stats import mannwhitneyu\n",
    "\n",
    "def mannwhitney_feature_selection(X, y, alpha=0.05):\n",
    "    # Reset indices to ensure they align\n",
    "    X = X.reset_index(drop=True)\n",
    "    y = y.reset_index(drop=True)\n",
    "    \n",
    "    results = []\n",
    "    classes = y.unique()\n",
    "    if len(classes) != 2:\n",
    "        raise ValueError(\"Mann-Whitney U test is applicable for binary classification only.\")\n",
    "    \n",
    "    class1, class2 = classes\n",
    "    \n",
    "    for feature in X.columns:\n",
    "        group1 = X.loc[y == class1, feature]\n",
    "        group2 = X.loc[y == class2, feature]\n",
    "        \n",
    "        # Perform Mann-Whitney U Test\n",
    "        u_stat, p_value = mannwhitneyu(group1, group2, alternative='two-sided')\n",
    "        \n",
    "        results.append({'Feature': feature, 'U-statistic': u_stat, 'p-value': p_value})\n",
    "    \n",
    "    results_df = pd.DataFrame(results)\n",
    "    # Select features where p-value is less than alpha\n",
    "    selected_features = results_df[results_df['p-value'] < alpha]['Feature'].tolist()\n",
    "\n",
    "    return results_df"
   ]
  },
  {
   "cell_type": "code",
   "execution_count": 158,
   "id": "c9bf3526-52cf-4829-a478-5f8a8d013a08",
   "metadata": {},
   "outputs": [],
   "source": [
    "def ks_feature_selection(X, y, alpha=0.05, max_sample_size=10000):\n",
    "    \"\"\"\n",
    "    Performs the Kolmogorov-Smirnov test between classes for each feature.\n",
    "\n",
    "    Parameters:\n",
    "    - X: pandas DataFrame of features.\n",
    "    - y: pandas Series of target labels.\n",
    "    - alpha: significance level.\n",
    "    - max_sample_size: maximum sample size to use for each class.\n",
    "\n",
    "    Returns:\n",
    "    - DataFrame with features and test results.\n",
    "    \"\"\"\n",
    "    import numpy as np\n",
    "    from itertools import combinations\n",
    "    from scipy.stats import ks_2samp\n",
    "\n",
    "    # Reset indices to ensure alignment\n",
    "    X = X.reset_index(drop=True)\n",
    "    y = y.reset_index(drop=True)\n",
    "\n",
    "    results = []\n",
    "    classes = y.unique()\n",
    "    class_pairs = list(combinations(classes, 2))\n",
    "\n",
    "    for feature in X.columns:\n",
    "        is_significant = False\n",
    "        ks_stat = None\n",
    "        p_value = None\n",
    "\n",
    "        for cls1, cls2 in class_pairs:\n",
    "            # Select groups with aligned indices\n",
    "            group1 = X.loc[y == cls1, feature].dropna()\n",
    "            group2 = X.loc[y == cls2, feature].dropna()\n",
    "\n",
    "            # Subsample if necessary\n",
    "            if len(group1) > max_sample_size:\n",
    "                group1 = group1.sample(n=max_sample_size, random_state=42)\n",
    "            if len(group2) > max_sample_size:\n",
    "                group2 = group2.sample(n=max_sample_size, random_state=42)\n",
    "\n",
    "            ks_stat, p_value = ks_2samp(group1, group2)\n",
    "\n",
    "            # Record if any class pair shows significant difference\n",
    "            if p_value < alpha:\n",
    "                is_significant = True\n",
    "                break  # No need to check other pairs\n",
    "\n",
    "        results.append({\n",
    "            'Feature': feature,\n",
    "            'KS Statistic': ks_stat,\n",
    "            'p-value': p_value,\n",
    "            'Significant Difference': 'Yes' if is_significant else 'No'\n",
    "        })\n",
    "\n",
    "    results_df = pd.DataFrame(results)\n",
    "    return results_df"
   ]
  },
  {
   "cell_type": "code",
   "execution_count": 160,
   "id": "433d973d-6638-4189-80bb-6c477482731c",
   "metadata": {},
   "outputs": [],
   "source": [
    "normality_results = ks_test_normality(data[numeric_columns])\n",
    "normal_features = normality_results[normality_results['Normality']=='Yes']['Feature'].values\n",
    "non_normal_features = normality_results[normality_results['Normality']=='No']['Feature'].values\n",
    "if len(normal_features)>0:\n",
    "    t_test_df = t_test_feature_selection(data[normal_features], target)\n",
    "if len(non_normal_features)>0:\n",
    "    mann_test_df = mannwhitney_feature_selection(data[non_normal_features], target)\n",
    "ks_selection_results = ks_feature_selection(data[numeric_columns], target)"
   ]
  },
  {
   "cell_type": "code",
   "execution_count": 164,
   "id": "8b20b690-1589-4b93-9d93-deb11c79c62b",
   "metadata": {},
   "outputs": [],
   "source": [
    "ks_selected_features = ks_selection_results[ks_selection_results['Significant Difference']=='Yes']\n",
    "ks_selected_features = ks_selected_features['Feature'].values"
   ]
  },
  {
   "cell_type": "code",
   "execution_count": 166,
   "id": "cd94f40f-a195-436f-842d-6c5faf13c701",
   "metadata": {},
   "outputs": [],
   "source": [
    "mann_test_selected_feature = mann_test_df[mann_test_df['p-value']<0.05]\n",
    "mann_test_selected_feature = mann_test_selected_feature['Feature'].values"
   ]
  },
  {
   "cell_type": "code",
   "execution_count": 176,
   "id": "4a25c7c3-476d-4912-b086-f2345541bec8",
   "metadata": {},
   "outputs": [
    {
     "name": "stdout",
     "output_type": "stream",
     "text": [
      "56\n",
      "93\n"
     ]
    }
   ],
   "source": [
    "print(len(ks_selected_features))\n",
    "print(len(mann_test_selected_feature))"
   ]
  },
  {
   "cell_type": "code",
   "execution_count": 172,
   "id": "76793dff-2b10-43f7-9ef9-9f628a5491bb",
   "metadata": {},
   "outputs": [
    {
     "data": {
      "text/plain": [
       "97"
      ]
     },
     "execution_count": 172,
     "metadata": {},
     "output_type": "execute_result"
    }
   ],
   "source": [
    "all_selected_features = list(set(ks_selected_features).union(set(mann_test_selected_feature)))"
   ]
  },
  {
   "cell_type": "code",
   "execution_count": null,
   "id": "88a009a6-6122-4a4a-96a3-b70b478b6f53",
   "metadata": {},
   "outputs": [],
   "source": [
    "import numpy as np\n",
    "import pandas as pd\n",
    "\n",
    "def benjamini_hochberg(p_values, q=0.05):\n",
    "    \"\"\"\n",
    "    Applies the Benjamini-Hochberg procedure to control the False Discovery Rate.\n",
    "    \n",
    "    Parameters:\n",
    "    - p_values: Array-like, list or array of p-values from independent tests.\n",
    "    - q: Desired False Discovery Rate (e.g., 0.05).\n",
    "    \n",
    "    Returns:\n",
    "    - A DataFrame with p-values, adjusted critical values, and significance status.\n",
    "    \"\"\"\n",
    "    p_values = np.array(p_values)\n",
    "    m = len(p_values)\n",
    "    df = pd.DataFrame({'p_value': p_values})\n",
    "    df['rank'] = df['p_value'].rank(method='min').astype(int)\n",
    "    df.sort_values('p_value', inplace=True)\n",
    "    df['critical_value'] = (df['rank'] / m) * q\n",
    "    df['significant'] = df['p_value'] <= df['critical_value']\n",
    "    # Identify the largest p-value that is significant\n",
    "    max_significant_rank = df[df['significant']]['rank'].max()\n",
    "    # Adjust significance for all p-values\n",
    "    df['significant'] = df['rank'] <= max_significant_rank\n",
    "    df.sort_index(inplace=True)  # Return to original order\n",
    "    return df\n",
    "\n"
   ]
  },
  {
   "cell_type": "code",
   "execution_count": null,
   "id": "d8c3c33e-1ff3-4b23-8872-73eb59e727f2",
   "metadata": {},
   "outputs": [],
   "source": []
  },
  {
   "cell_type": "code",
   "execution_count": null,
   "id": "7fa35800-61c3-43fc-938c-4a5fef1ed473",
   "metadata": {},
   "outputs": [],
   "source": [
    "pd.set_option('display.max_rows', 5)\n",
    "pd.set_option('display.max_columns', 500)\n",
    "pd.set_option('display.width', 1000)\n",
    "\n",
    "print(df.describe())\n",
    "print(df.duplicated().sum())"
   ]
  }
 ],
 "metadata": {
  "kernelspec": {
   "display_name": "Python 3 (ipykernel)",
   "language": "python",
   "name": "python3"
  },
  "language_info": {
   "codemirror_mode": {
    "name": "ipython",
    "version": 3
   },
   "file_extension": ".py",
   "mimetype": "text/x-python",
   "name": "python",
   "nbconvert_exporter": "python",
   "pygments_lexer": "ipython3",
   "version": "3.9.19"
  }
 },
 "nbformat": 4,
 "nbformat_minor": 5
}
