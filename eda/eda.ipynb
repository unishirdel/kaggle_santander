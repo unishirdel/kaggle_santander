{
 "cells": [
  {
   "cell_type": "code",
   "execution_count": 112,
   "id": "58871850-fe4b-4a43-ade4-530c5c3baa5c",
   "metadata": {},
   "outputs": [],
   "source": [
    "import pandas as pd\n",
    "import numpy as np"
   ]
  },
  {
   "cell_type": "code",
   "execution_count": 113,
   "id": "d4f3a6ad-6332-4bf8-890e-7dd0b685f2d7",
   "metadata": {},
   "outputs": [],
   "source": [
    "data = pd.read_csv(\"../data/train.csv\")"
   ]
  },
  {
   "cell_type": "code",
   "execution_count": 114,
   "id": "a1c18395-c61b-4223-88ea-200e45a0e13d",
   "metadata": {},
   "outputs": [
    {
     "data": {
      "text/html": [
       "<div>\n",
       "<style scoped>\n",
       "    .dataframe tbody tr th:only-of-type {\n",
       "        vertical-align: middle;\n",
       "    }\n",
       "\n",
       "    .dataframe tbody tr th {\n",
       "        vertical-align: top;\n",
       "    }\n",
       "\n",
       "    .dataframe thead th {\n",
       "        text-align: right;\n",
       "    }\n",
       "</style>\n",
       "<table border=\"1\" class=\"dataframe\">\n",
       "  <thead>\n",
       "    <tr style=\"text-align: right;\">\n",
       "      <th></th>\n",
       "      <th>ID</th>\n",
       "      <th>var3</th>\n",
       "      <th>var15</th>\n",
       "      <th>imp_ent_var16_ult1</th>\n",
       "      <th>imp_op_var39_comer_ult1</th>\n",
       "      <th>imp_op_var39_comer_ult3</th>\n",
       "      <th>imp_op_var40_comer_ult1</th>\n",
       "      <th>imp_op_var40_comer_ult3</th>\n",
       "      <th>imp_op_var40_efect_ult1</th>\n",
       "      <th>imp_op_var40_efect_ult3</th>\n",
       "      <th>...</th>\n",
       "      <th>saldo_medio_var33_hace2</th>\n",
       "      <th>saldo_medio_var33_hace3</th>\n",
       "      <th>saldo_medio_var33_ult1</th>\n",
       "      <th>saldo_medio_var33_ult3</th>\n",
       "      <th>saldo_medio_var44_hace2</th>\n",
       "      <th>saldo_medio_var44_hace3</th>\n",
       "      <th>saldo_medio_var44_ult1</th>\n",
       "      <th>saldo_medio_var44_ult3</th>\n",
       "      <th>var38</th>\n",
       "      <th>TARGET</th>\n",
       "    </tr>\n",
       "  </thead>\n",
       "  <tbody>\n",
       "    <tr>\n",
       "      <th>0</th>\n",
       "      <td>1</td>\n",
       "      <td>2</td>\n",
       "      <td>23</td>\n",
       "      <td>0.0</td>\n",
       "      <td>0.0</td>\n",
       "      <td>0.0</td>\n",
       "      <td>0.0</td>\n",
       "      <td>0.0</td>\n",
       "      <td>0.0</td>\n",
       "      <td>0.0</td>\n",
       "      <td>...</td>\n",
       "      <td>0.0</td>\n",
       "      <td>0.0</td>\n",
       "      <td>0.0</td>\n",
       "      <td>0.0</td>\n",
       "      <td>0.0</td>\n",
       "      <td>0.0</td>\n",
       "      <td>0.0</td>\n",
       "      <td>0.0</td>\n",
       "      <td>39205.170000</td>\n",
       "      <td>0</td>\n",
       "    </tr>\n",
       "    <tr>\n",
       "      <th>1</th>\n",
       "      <td>3</td>\n",
       "      <td>2</td>\n",
       "      <td>34</td>\n",
       "      <td>0.0</td>\n",
       "      <td>0.0</td>\n",
       "      <td>0.0</td>\n",
       "      <td>0.0</td>\n",
       "      <td>0.0</td>\n",
       "      <td>0.0</td>\n",
       "      <td>0.0</td>\n",
       "      <td>...</td>\n",
       "      <td>0.0</td>\n",
       "      <td>0.0</td>\n",
       "      <td>0.0</td>\n",
       "      <td>0.0</td>\n",
       "      <td>0.0</td>\n",
       "      <td>0.0</td>\n",
       "      <td>0.0</td>\n",
       "      <td>0.0</td>\n",
       "      <td>49278.030000</td>\n",
       "      <td>0</td>\n",
       "    </tr>\n",
       "    <tr>\n",
       "      <th>2</th>\n",
       "      <td>4</td>\n",
       "      <td>2</td>\n",
       "      <td>23</td>\n",
       "      <td>0.0</td>\n",
       "      <td>0.0</td>\n",
       "      <td>0.0</td>\n",
       "      <td>0.0</td>\n",
       "      <td>0.0</td>\n",
       "      <td>0.0</td>\n",
       "      <td>0.0</td>\n",
       "      <td>...</td>\n",
       "      <td>0.0</td>\n",
       "      <td>0.0</td>\n",
       "      <td>0.0</td>\n",
       "      <td>0.0</td>\n",
       "      <td>0.0</td>\n",
       "      <td>0.0</td>\n",
       "      <td>0.0</td>\n",
       "      <td>0.0</td>\n",
       "      <td>67333.770000</td>\n",
       "      <td>0</td>\n",
       "    </tr>\n",
       "    <tr>\n",
       "      <th>3</th>\n",
       "      <td>8</td>\n",
       "      <td>2</td>\n",
       "      <td>37</td>\n",
       "      <td>0.0</td>\n",
       "      <td>195.0</td>\n",
       "      <td>195.0</td>\n",
       "      <td>0.0</td>\n",
       "      <td>0.0</td>\n",
       "      <td>0.0</td>\n",
       "      <td>0.0</td>\n",
       "      <td>...</td>\n",
       "      <td>0.0</td>\n",
       "      <td>0.0</td>\n",
       "      <td>0.0</td>\n",
       "      <td>0.0</td>\n",
       "      <td>0.0</td>\n",
       "      <td>0.0</td>\n",
       "      <td>0.0</td>\n",
       "      <td>0.0</td>\n",
       "      <td>64007.970000</td>\n",
       "      <td>0</td>\n",
       "    </tr>\n",
       "    <tr>\n",
       "      <th>4</th>\n",
       "      <td>10</td>\n",
       "      <td>2</td>\n",
       "      <td>39</td>\n",
       "      <td>0.0</td>\n",
       "      <td>0.0</td>\n",
       "      <td>0.0</td>\n",
       "      <td>0.0</td>\n",
       "      <td>0.0</td>\n",
       "      <td>0.0</td>\n",
       "      <td>0.0</td>\n",
       "      <td>...</td>\n",
       "      <td>0.0</td>\n",
       "      <td>0.0</td>\n",
       "      <td>0.0</td>\n",
       "      <td>0.0</td>\n",
       "      <td>0.0</td>\n",
       "      <td>0.0</td>\n",
       "      <td>0.0</td>\n",
       "      <td>0.0</td>\n",
       "      <td>117310.979016</td>\n",
       "      <td>0</td>\n",
       "    </tr>\n",
       "  </tbody>\n",
       "</table>\n",
       "<p>5 rows × 371 columns</p>\n",
       "</div>"
      ],
      "text/plain": [
       "   ID  var3  var15  imp_ent_var16_ult1  imp_op_var39_comer_ult1  \\\n",
       "0   1     2     23                 0.0                      0.0   \n",
       "1   3     2     34                 0.0                      0.0   \n",
       "2   4     2     23                 0.0                      0.0   \n",
       "3   8     2     37                 0.0                    195.0   \n",
       "4  10     2     39                 0.0                      0.0   \n",
       "\n",
       "   imp_op_var39_comer_ult3  imp_op_var40_comer_ult1  imp_op_var40_comer_ult3  \\\n",
       "0                      0.0                      0.0                      0.0   \n",
       "1                      0.0                      0.0                      0.0   \n",
       "2                      0.0                      0.0                      0.0   \n",
       "3                    195.0                      0.0                      0.0   \n",
       "4                      0.0                      0.0                      0.0   \n",
       "\n",
       "   imp_op_var40_efect_ult1  imp_op_var40_efect_ult3  ...  \\\n",
       "0                      0.0                      0.0  ...   \n",
       "1                      0.0                      0.0  ...   \n",
       "2                      0.0                      0.0  ...   \n",
       "3                      0.0                      0.0  ...   \n",
       "4                      0.0                      0.0  ...   \n",
       "\n",
       "   saldo_medio_var33_hace2  saldo_medio_var33_hace3  saldo_medio_var33_ult1  \\\n",
       "0                      0.0                      0.0                     0.0   \n",
       "1                      0.0                      0.0                     0.0   \n",
       "2                      0.0                      0.0                     0.0   \n",
       "3                      0.0                      0.0                     0.0   \n",
       "4                      0.0                      0.0                     0.0   \n",
       "\n",
       "   saldo_medio_var33_ult3  saldo_medio_var44_hace2  saldo_medio_var44_hace3  \\\n",
       "0                     0.0                      0.0                      0.0   \n",
       "1                     0.0                      0.0                      0.0   \n",
       "2                     0.0                      0.0                      0.0   \n",
       "3                     0.0                      0.0                      0.0   \n",
       "4                     0.0                      0.0                      0.0   \n",
       "\n",
       "   saldo_medio_var44_ult1  saldo_medio_var44_ult3          var38  TARGET  \n",
       "0                     0.0                     0.0   39205.170000       0  \n",
       "1                     0.0                     0.0   49278.030000       0  \n",
       "2                     0.0                     0.0   67333.770000       0  \n",
       "3                     0.0                     0.0   64007.970000       0  \n",
       "4                     0.0                     0.0  117310.979016       0  \n",
       "\n",
       "[5 rows x 371 columns]"
      ]
     },
     "execution_count": 114,
     "metadata": {},
     "output_type": "execute_result"
    }
   ],
   "source": [
    "data.head()"
   ]
  },
  {
   "cell_type": "code",
   "execution_count": 115,
   "id": "2317538a-ecc4-4d4a-8309-80982a99b0d0",
   "metadata": {},
   "outputs": [
    {
     "data": {
      "text/plain": [
       "76020"
      ]
     },
     "execution_count": 115,
     "metadata": {},
     "output_type": "execute_result"
    }
   ],
   "source": [
    "len(data)"
   ]
  },
  {
   "cell_type": "code",
   "execution_count": 116,
   "id": "10a6e511-0fa9-41d2-8d5b-29e909d88e33",
   "metadata": {},
   "outputs": [
    {
     "data": {
      "text/plain": [
       "3008"
      ]
     },
     "execution_count": 116,
     "metadata": {},
     "output_type": "execute_result"
    }
   ],
   "source": [
    "sum(data[\"TARGET\"])"
   ]
  },
  {
   "cell_type": "code",
   "execution_count": 117,
   "id": "d7868b65-a845-4bf7-8599-d61f81290595",
   "metadata": {},
   "outputs": [
    {
     "data": {
      "text/plain": [
       "False"
      ]
     },
     "execution_count": 117,
     "metadata": {},
     "output_type": "execute_result"
    }
   ],
   "source": [
    "data.isnull().any().any()"
   ]
  },
  {
   "cell_type": "code",
   "execution_count": 118,
   "id": "5e996ad4-2988-4552-ab23-889a3cbf5c3c",
   "metadata": {},
   "outputs": [
    {
     "name": "stdout",
     "output_type": "stream",
     "text": [
      "337\n"
     ]
    }
   ],
   "source": [
    "selected_col = []\n",
    "for col in data.columns:\n",
    "    if len(data[col].unique()) != 1:\n",
    "        selected_col.append(col)\n",
    "print(len(selected_col))"
   ]
  },
  {
   "cell_type": "code",
   "execution_count": 119,
   "id": "34f52287-79a0-4a50-b347-97ba36d556a5",
   "metadata": {},
   "outputs": [],
   "source": [
    "data = data[selected_col]"
   ]
  },
  {
   "cell_type": "code",
   "execution_count": 120,
   "id": "bc2d96d3-d5f0-4941-8dac-be02b28f34c9",
   "metadata": {},
   "outputs": [],
   "source": [
    "target = data['TARGET']"
   ]
  },
  {
   "cell_type": "code",
   "execution_count": 121,
   "id": "ccdfd657-a295-4498-b8a4-d0830ba5a3d3",
   "metadata": {},
   "outputs": [],
   "source": [
    "df_pos = data[data['TARGET']==1]\n",
    "df_neg = data[data['TARGET']==0]"
   ]
  },
  {
   "cell_type": "code",
   "execution_count": 122,
   "id": "1a6d62d7-31b8-4cc7-9e47-7afa768eed2e",
   "metadata": {},
   "outputs": [],
   "source": [
    "data = data.drop('TARGET', axis=1)\n",
    "df_pos = df_pos.drop('TARGET', axis=1)\n",
    "df_neg = df_neg.drop('TARGET', axis=1)"
   ]
  },
  {
   "cell_type": "code",
   "execution_count": 123,
   "id": "cc6ddf3c-b49e-453c-8183-1c5950e26efe",
   "metadata": {},
   "outputs": [
    {
     "name": "stdout",
     "output_type": "stream",
     "text": [
      "228\n"
     ]
    }
   ],
   "source": [
    "selected_pos_col = []\n",
    "non_selected_pos_col = []\n",
    "for col in df_pos.columns:\n",
    "    if len(df_pos[col].unique()) != 1:\n",
    "        selected_pos_col.append(col)\n",
    "    else:\n",
    "        non_selected_pos_col.append(col)\n",
    "print(len(selected_pos_col))"
   ]
  },
  {
   "cell_type": "code",
   "execution_count": 124,
   "id": "5208e39b-f066-4720-b174-4a45c90af60f",
   "metadata": {},
   "outputs": [
    {
     "name": "stdout",
     "output_type": "stream",
     "text": [
      "336\n"
     ]
    }
   ],
   "source": [
    "selected_neg_col = []\n",
    "non_selected_neg_col = []\n",
    "for col in df_neg.columns:\n",
    "    if len(df_neg[col].unique()) != 1:\n",
    "        selected_neg_col.append(col)\n",
    "    else:\n",
    "        non_selected_neg_col.append(col)\n",
    "print(len(selected_neg_col))"
   ]
  },
  {
   "cell_type": "code",
   "execution_count": 125,
   "id": "d9fd72bc-1cfd-4930-adf8-4b93f582bbf1",
   "metadata": {},
   "outputs": [],
   "source": [
    "intersection_cols = list(set(selected_pos_col) & set(selected_neg_col))"
   ]
  },
  {
   "cell_type": "code",
   "execution_count": 126,
   "id": "8b785fcb-a0e1-4644-b864-73085e32612a",
   "metadata": {},
   "outputs": [
    {
     "data": {
      "text/plain": [
       "228"
      ]
     },
     "execution_count": 126,
     "metadata": {},
     "output_type": "execute_result"
    }
   ],
   "source": [
    "len(intersection_cols)"
   ]
  },
  {
   "cell_type": "code",
   "execution_count": 127,
   "id": "79b10924-6dd5-44d6-b647-1cd5b7c41987",
   "metadata": {},
   "outputs": [],
   "source": [
    "pos_samples_uniq = {}\n",
    "for col in non_selected_pos_col:\n",
    "    uniq1 = df_pos[col].unique()\n",
    "    uniq0 = df_neg[col].unique()\n",
    "    if uniq1[0] not in uniq0:\n",
    "        print(col)\n",
    "    else:\n",
    "        target = target[data[col]==uniq1[0]]\n",
    "        data = data[data[col]==uniq1[0]]\n",
    "        data = data.drop(col, axis=1)\n",
    "        pos_samples_uniq[col] = uniq1[0]"
   ]
  },
  {
   "cell_type": "code",
   "execution_count": 128,
   "id": "cbdc19e6-69a4-40d7-9abb-0f2b049bce87",
   "metadata": {},
   "outputs": [
    {
     "data": {
      "text/plain": [
       "{'ind_var6_0': 0,\n",
       " 'ind_var6': 0,\n",
       " 'ind_var13_medio_0': 0,\n",
       " 'ind_var13_medio': 0,\n",
       " 'ind_var18_0': 0,\n",
       " 'ind_var18': 0,\n",
       " 'ind_var20_0': 0,\n",
       " 'ind_var20': 0,\n",
       " 'ind_var29_0': 0,\n",
       " 'ind_var29': 0,\n",
       " 'ind_var33_0': 0,\n",
       " 'ind_var33': 0,\n",
       " 'ind_var34_0': 0,\n",
       " 'ind_var34': 0,\n",
       " 'num_var6_0': 0,\n",
       " 'num_var6': 0,\n",
       " 'num_var13_medio_0': 0,\n",
       " 'num_var13_medio': 0,\n",
       " 'num_var18_0': 0,\n",
       " 'num_var18': 0,\n",
       " 'num_var20_0': 0,\n",
       " 'num_var20': 0,\n",
       " 'num_op_var40_hace3': 0,\n",
       " 'num_var29_0': 0,\n",
       " 'num_var29': 0,\n",
       " 'num_var33_0': 0,\n",
       " 'num_var33': 0,\n",
       " 'num_var34_0': 0,\n",
       " 'num_var34': 0,\n",
       " 'saldo_var6': 0.0,\n",
       " 'saldo_var13_medio': 0,\n",
       " 'saldo_var18': 0,\n",
       " 'saldo_var20': 0.0,\n",
       " 'saldo_var29': 0.0,\n",
       " 'saldo_var33': 0.0,\n",
       " 'saldo_var34': 0,\n",
       " 'delta_imp_amort_var18_1y3': 0,\n",
       " 'delta_imp_amort_var34_1y3': 0,\n",
       " 'delta_imp_aport_var33_1y3': 0.0,\n",
       " 'delta_imp_reemb_var33_1y3': 0,\n",
       " 'delta_imp_trasp_var17_in_1y3': 0,\n",
       " 'delta_imp_trasp_var17_out_1y3': 0,\n",
       " 'delta_imp_trasp_var33_in_1y3': 0,\n",
       " 'delta_imp_trasp_var33_out_1y3': 0,\n",
       " 'delta_imp_venta_var44_1y3': 0.0,\n",
       " 'delta_num_aport_var33_1y3': 0.0,\n",
       " 'delta_num_reemb_var33_1y3': 0,\n",
       " 'delta_num_trasp_var17_in_1y3': 0,\n",
       " 'delta_num_trasp_var17_out_1y3': 0,\n",
       " 'delta_num_trasp_var33_in_1y3': 0,\n",
       " 'delta_num_trasp_var33_out_1y3': 0,\n",
       " 'delta_num_venta_var44_1y3': 0.0,\n",
       " 'imp_amort_var18_ult1': 0.0,\n",
       " 'imp_amort_var34_ult1': 0.0,\n",
       " 'imp_aport_var17_hace3': 0.0,\n",
       " 'imp_aport_var33_hace3': 0,\n",
       " 'imp_aport_var33_ult1': 0,\n",
       " 'imp_var7_emit_ult1': 0.0,\n",
       " 'imp_compra_var44_hace3': 0.0,\n",
       " 'imp_reemb_var17_hace3': 0.0,\n",
       " 'imp_reemb_var33_ult1': 0,\n",
       " 'imp_trasp_var17_in_hace3': 0.0,\n",
       " 'imp_trasp_var17_in_ult1': 0.0,\n",
       " 'imp_trasp_var17_out_ult1': 0.0,\n",
       " 'imp_trasp_var33_in_hace3': 0.0,\n",
       " 'imp_trasp_var33_in_ult1': 0.0,\n",
       " 'imp_trasp_var33_out_ult1': 0,\n",
       " 'imp_venta_var44_hace3': 0.0,\n",
       " 'imp_venta_var44_ult1': 0.0,\n",
       " 'ind_var7_emit_ult1': 0,\n",
       " 'num_aport_var17_hace3': 0,\n",
       " 'num_aport_var33_hace3': 0,\n",
       " 'num_aport_var33_ult1': 0,\n",
       " 'num_var7_emit_ult1': 0,\n",
       " 'num_compra_var44_hace3': 0,\n",
       " 'num_meses_var13_largo_ult3': 0,\n",
       " 'num_meses_var13_medio_ult3': 0,\n",
       " 'num_meses_var29_ult3': 0,\n",
       " 'num_meses_var33_ult3': 0,\n",
       " 'num_reemb_var17_hace3': 0,\n",
       " 'num_reemb_var33_ult1': 0,\n",
       " 'num_trasp_var17_in_hace3': 0,\n",
       " 'num_trasp_var17_in_ult1': 0,\n",
       " 'num_trasp_var17_out_ult1': 0,\n",
       " 'num_trasp_var33_in_hace3': 0,\n",
       " 'num_trasp_var33_in_ult1': 0,\n",
       " 'num_trasp_var33_out_ult1': 0,\n",
       " 'num_venta_var44_hace3': 0,\n",
       " 'num_venta_var44_ult1': 0,\n",
       " 'saldo_medio_var13_largo_hace2': 0.0,\n",
       " 'saldo_medio_var13_largo_hace3': 0.0,\n",
       " 'saldo_medio_var13_largo_ult1': 0.0,\n",
       " 'saldo_medio_var13_largo_ult3': 0.0,\n",
       " 'saldo_medio_var13_medio_hace2': 0.0,\n",
       " 'saldo_medio_var13_medio_ult1': 0,\n",
       " 'saldo_medio_var13_medio_ult3': 0.0,\n",
       " 'saldo_medio_var17_hace2': 0.0,\n",
       " 'saldo_medio_var17_hace3': 0.0,\n",
       " 'saldo_medio_var29_hace2': 0.0,\n",
       " 'saldo_medio_var29_hace3': 0.0,\n",
       " 'saldo_medio_var29_ult1': 0.0,\n",
       " 'saldo_medio_var29_ult3': 0.0,\n",
       " 'saldo_medio_var33_hace2': 0.0,\n",
       " 'saldo_medio_var33_hace3': 0.0,\n",
       " 'saldo_medio_var33_ult1': 0.0,\n",
       " 'saldo_medio_var33_ult3': 0.0,\n",
       " 'saldo_medio_var44_hace2': 0.0,\n",
       " 'saldo_medio_var44_hace3': 0.0}"
      ]
     },
     "execution_count": 128,
     "metadata": {},
     "output_type": "execute_result"
    }
   ],
   "source": [
    "pos_samples_uniq"
   ]
  },
  {
   "cell_type": "code",
   "execution_count": 129,
   "id": "6bd71d48-d0db-4e32-bdc0-e85dd19af5ef",
   "metadata": {},
   "outputs": [
    {
     "name": "stdout",
     "output_type": "stream",
     "text": [
      "74930\n",
      "74930\n"
     ]
    }
   ],
   "source": [
    "print(len(data))\n",
    "print(len(target))"
   ]
  },
  {
   "cell_type": "code",
   "execution_count": 130,
   "id": "fd2aedd3-bb1f-4b12-ad14-5eb9bccbf35a",
   "metadata": {},
   "outputs": [
    {
     "data": {
      "text/plain": [
       "228"
      ]
     },
     "execution_count": 130,
     "metadata": {},
     "output_type": "execute_result"
    }
   ],
   "source": [
    "len(data.columns)"
   ]
  },
  {
   "cell_type": "code",
   "execution_count": 198,
   "id": "9622810a-87e6-497c-b5f4-88e3782c3d14",
   "metadata": {},
   "outputs": [],
   "source": [
    "numeric_columns = data.select_dtypes(include=['number']).columns.tolist()\n",
    "boolean_columns = data.select_dtypes(include=['bool']).columns.tolist()\n",
    "categorical_columns = data.select_dtypes(include=['object']).columns.tolist()"
   ]
  },
  {
   "cell_type": "code",
   "execution_count": 200,
   "id": "cbd68bb2-a3b1-4c63-94f0-35a4c0414efb",
   "metadata": {},
   "outputs": [],
   "source": [
    "temp = numeric_columns.copy()\n",
    "for col in temp:\n",
    "    if len(data[col].unique()) == 2:\n",
    "        data[col] = data1[col] == max(data1[col])\n",
    "        numeric_columns.remove(col)\n",
    "        boolean_columns.append(col)"
   ]
  },
  {
   "cell_type": "code",
   "execution_count": 202,
   "id": "0b5d3485-5cb2-43b8-bbef-624ee5b099e9",
   "metadata": {},
   "outputs": [
    {
     "name": "stdout",
     "output_type": "stream",
     "text": [
      "160\n",
      "68\n",
      "0\n"
     ]
    }
   ],
   "source": [
    "print(len(numeric_columns))\n",
    "print(len(boolean_columns))\n",
    "print(len(categorical_columns))"
   ]
  },
  {
   "cell_type": "code",
   "execution_count": 156,
   "id": "70278377-86d1-4ccd-ab1b-fa3be36335bc",
   "metadata": {},
   "outputs": [
    {
     "data": {
      "text/plain": [
       "[]"
      ]
     },
     "execution_count": 156,
     "metadata": {},
     "output_type": "execute_result"
    }
   ],
   "source": [
    "categorical_columns"
   ]
  },
  {
   "cell_type": "code",
   "execution_count": null,
   "id": "1a55d383-9e9f-4cf6-8b2c-750b9410a215",
   "metadata": {},
   "outputs": [],
   "source": []
  }
 ],
 "metadata": {
  "kernelspec": {
   "display_name": "Python 3 (ipykernel)",
   "language": "python",
   "name": "python3"
  },
  "language_info": {
   "codemirror_mode": {
    "name": "ipython",
    "version": 3
   },
   "file_extension": ".py",
   "mimetype": "text/x-python",
   "name": "python",
   "nbconvert_exporter": "python",
   "pygments_lexer": "ipython3",
   "version": "3.9.19"
  }
 },
 "nbformat": 4,
 "nbformat_minor": 5
}
